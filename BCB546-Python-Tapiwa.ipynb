{
 "cells": [
  {
   "cell_type": "code",
   "execution_count": 74,
   "id": "ee79c8f9",
   "metadata": {},
   "outputs": [
    {
     "name": "stdout",
     "output_type": "stream",
     "text": [
      "Requirement already satisfied: biopython in c:\\users\\magwa\\anaconda3\\lib\\site-packages (1.78)\n",
      "Requirement already satisfied: numpy in c:\\users\\magwa\\anaconda3\\lib\\site-packages (from biopython) (1.20.3)\n"
     ]
    }
   ],
   "source": [
    "from Bio import SeqIO\n",
    "from Bio.Data import CodonTable\n",
    "import pandas as pd\n",
    "from Bio.Seq import Seq\n",
    "import matplotlib as plt\n",
    "import matplotlib.pyplot as plt\n",
    "plt.style.use('ggplot')\n",
    "from Bio.SeqUtils.ProtParam import ProteinAnalysis\n",
    "%matplotlib inline\n",
    "%pip install biopython\n",
    "import seaborn as sns"
   ]
  },
  {
   "cell_type": "markdown",
   "id": "358ff9e9",
   "metadata": {},
   "source": [
    "# #1\n",
    "##### Please properly document this function in the Jupyter notebook. Your descriptions of all functions should contain information about what the function does, as well as information about the return types and arguments."
   ]
  },
  {
   "cell_type": "code",
   "execution_count": 75,
   "id": "a4af0bb8",
   "metadata": {},
   "outputs": [],
   "source": [
    "def get_sequences_from_file(fasta_fn): # defining the function \n",
    "    sequence_data_dict = {} # creating an empty dictionary called 'sequence_data'\n",
    "    for record in SeqIO.parse(fasta_fn, \"fasta\"): # parsing all the fasta files using Seq10 to read FASTA file and store in a SeqRecord \n",
    "        description = record.description.split() # splitting each word in the description\n",
    "        species_name = description[1] + \" \" + description[2] # assigning the second and third columns of the data file as species name\n",
    "        sequence_data_dict[species_name] = record.seq #adding the species name and sequence to the dictionary\n",
    "    return(sequence_data_dict) #return the dictionary as the result of the function"
   ]
  },
  {
   "cell_type": "markdown",
   "id": "f8d763ba",
   "metadata": {},
   "source": [
    "# #2\n",
    "##### YOUR STRING-TRANSLATE FUNCTION \n",
    "##### Write a function that translates sequences. All sequences start at codon position. Complete a function that translates using a loop over the string of nucleotides. Here is  some pseudo-code and suggestions"
   ]
  },
  {
   "cell_type": "code",
   "execution_count": 76,
   "id": "ebba6f22",
   "metadata": {},
   "outputs": [],
   "source": [
    "# aa_seq_string = '' is an empty string for the translated sequence \n",
    "# if len(seq)%3 == 0 is making codons from 3 nucleotides \n",
    "# for loop matches the stop codons to the ones in the table, \n",
    "# checks the end of the codon for a stop codon \n",
    "# then we get the amino acid and add it to the string(aa_seq_string) \n",
    "\n",
    "def translate_function(string_nucleotides): \n",
    "    mito_table = CodonTable.unambiguous_dna_by_name[\"Vertebrate Mitochondrial\"]\n",
    "    aa_seq_string = '' \n",
    "    if len(string_nucleotides)%3 == 0:                                                      \n",
    "        for i in range(0, len(string_nucleotides), 3):\n",
    "            codon = string_nucleotides[i:i + 3]\n",
    "    if codon in [\"TAA\", \"TAG\", \"AGA\", \"AGG\"]:                               \n",
    "            return aa_seq_string\n",
    "    aa_seq_string+= mito_table[codon]                                        \n",
    "    return aa_seq_string\n",
    "\n",
    "# https://www.geeksforgeeks.org/dna-protein-python-3/ "
   ]
  },
  {
   "cell_type": "markdown",
   "id": "54941784",
   "metadata": {},
   "source": [
    "# #3\n",
    "##### YOUR ALTERNATIVE FUNCTION \n",
    "##### Is there a better way to write the translation function? (Hint: yes there is.) Perhaps using available BioPython library utilities? Please also write this function.\n"
   ]
  },
  {
   "cell_type": "code",
   "execution_count": 77,
   "id": "9e83492d",
   "metadata": {},
   "outputs": [],
   "source": [
    "# here I used the translate function from the Biopython library\n",
    "# table=2 is id=2 in the library which is \"Vertebrate Mitochondrial\"\n",
    "\n",
    "def translate(string_nucleotides):\n",
    "    seq_string = Seq.translate(string_nucleotides, table=2, to_stop=True)\n",
    "    return str(seq_string)"
   ]
  },
  {
   "cell_type": "markdown",
   "id": "b5f2b85e",
   "metadata": {},
   "source": [
    "# #4\n",
    "##### YOUR COUNT AA ANALYSIS FUNCTION \n",
    "##### Write a function that calculates the molecular weight of each amino acid sequence. For this, you can use some BioPython functions. I think you can use the ProtParam module. For more info, check this out: http://biopython.org/wiki/ProtParam"
   ]
  },
  {
   "cell_type": "code",
   "execution_count": 78,
   "id": "4a860ba7",
   "metadata": {},
   "outputs": [],
   "source": [
    "# ProteinAnalysis is used store the output in the variable aa_analysis \n",
    "# then I calculated the molecular weight for aa_analysis \n",
    "# and the return output is the molecular weight\n",
    "\n",
    "def compute_molecular_weight(aa_seq):\n",
    "    aa_analysis = ProteinAnalysis(aa_seq)\n",
    "    molecular_weight = aa_analysis.molecular_weight()\n",
    "    return molecular_weight"
   ]
  },
  {
   "cell_type": "markdown",
   "id": "7ad14240",
   "metadata": {},
   "source": [
    "# #5\n",
    "##### YOUR GC CONTENT ANALYSIS FUNCTION\n",
    "##### Write a function that calculates the GC-content (proportion of \"G\" and \"C\") of each DNA sequence and returns this value."
   ]
  },
  {
   "cell_type": "code",
   "execution_count": 79,
   "id": "47ebec54",
   "metadata": {},
   "outputs": [],
   "source": [
    "# G_count is the number of times G is found in the DNA_string input \n",
    "# C_count is the number of times C is found in the DNA_string input \n",
    "# DNAstring_length is the length of DNA_string input \n",
    "# GC_content has the calculation to get the GC content of the DNA_string input\n",
    "\n",
    "def gc_content(DNA_string):\n",
    "    G_count = DNA_string.count(\"G\")\n",
    "    C_count = DNA_string.count(\"C\")\n",
    "    DNAstring_length = len(DNA_string)\n",
    "    GC_content = (C_count+G_count)/DNAstring_length\n",
    "    return  GC_content"
   ]
  },
  {
   "cell_type": "markdown",
   "id": "701bbc54",
   "metadata": {},
   "source": [
    "# Main"
   ]
  },
  {
   "cell_type": "code",
   "execution_count": 80,
   "id": "a61b81e1",
   "metadata": {},
   "outputs": [],
   "source": [
    "# Function provided\n",
    "\n",
    "cytb_seqs = get_sequences_from_file(\"penguins_cytb.fasta\") \n",
    "penguins_df = pd.read_csv(\"penguins_mass.csv\") \n",
    "species_list = list(penguins_df.species)"
   ]
  },
  {
   "cell_type": "markdown",
   "id": "693895ec",
   "metadata": {},
   "source": [
    "# #6 \n",
    "#### Add two new columns to the penguin DataFrame: (1) molecular weight and (2) GC content. Set the value to 'NaN' to indicate that these cells are currently empty"
   ]
  },
  {
   "cell_type": "markdown",
   "metadata": {},
   "source": [
    "###### View the dataframe"
   ]
  },
  {
   "cell_type": "code",
   "execution_count": 81,
   "id": "f05342d6",
   "metadata": {},
   "outputs": [
    {
     "data": {
      "text/html": [
       "<div>\n",
       "<style scoped>\n",
       "    .dataframe tbody tr th:only-of-type {\n",
       "        vertical-align: middle;\n",
       "    }\n",
       "\n",
       "    .dataframe tbody tr th {\n",
       "        vertical-align: top;\n",
       "    }\n",
       "\n",
       "    .dataframe thead th {\n",
       "        text-align: right;\n",
       "    }\n",
       "</style>\n",
       "<table border=\"1\" class=\"dataframe\">\n",
       "  <thead>\n",
       "    <tr style=\"text-align: right;\">\n",
       "      <th></th>\n",
       "      <th>species</th>\n",
       "      <th>mass</th>\n",
       "    </tr>\n",
       "  </thead>\n",
       "  <tbody>\n",
       "    <tr>\n",
       "      <th>0</th>\n",
       "      <td>Aptenodytes forsteri</td>\n",
       "      <td>28.00</td>\n",
       "    </tr>\n",
       "    <tr>\n",
       "      <th>1</th>\n",
       "      <td>Aptenodytes patagonicus</td>\n",
       "      <td>13.40</td>\n",
       "    </tr>\n",
       "    <tr>\n",
       "      <th>2</th>\n",
       "      <td>Eudyptes chrysocome</td>\n",
       "      <td>2.80</td>\n",
       "    </tr>\n",
       "    <tr>\n",
       "      <th>3</th>\n",
       "      <td>Eudyptes chrysolophus</td>\n",
       "      <td>4.50</td>\n",
       "    </tr>\n",
       "    <tr>\n",
       "      <th>4</th>\n",
       "      <td>Eudyptes sclateri</td>\n",
       "      <td>4.25</td>\n",
       "    </tr>\n",
       "    <tr>\n",
       "      <th>5</th>\n",
       "      <td>Eudyptula minor</td>\n",
       "      <td>1.60</td>\n",
       "    </tr>\n",
       "    <tr>\n",
       "      <th>6</th>\n",
       "      <td>Pygoscelis adeliae</td>\n",
       "      <td>4.60</td>\n",
       "    </tr>\n",
       "    <tr>\n",
       "      <th>7</th>\n",
       "      <td>Pygoscelis antarctica</td>\n",
       "      <td>4.10</td>\n",
       "    </tr>\n",
       "    <tr>\n",
       "      <th>8</th>\n",
       "      <td>Pygoscelis papua</td>\n",
       "      <td>6.10</td>\n",
       "    </tr>\n",
       "    <tr>\n",
       "      <th>9</th>\n",
       "      <td>Spheniscus demersus</td>\n",
       "      <td>3.20</td>\n",
       "    </tr>\n",
       "    <tr>\n",
       "      <th>10</th>\n",
       "      <td>Spheniscus humboldti</td>\n",
       "      <td>4.75</td>\n",
       "    </tr>\n",
       "    <tr>\n",
       "      <th>11</th>\n",
       "      <td>Spheniscus magellanicus</td>\n",
       "      <td>3.40</td>\n",
       "    </tr>\n",
       "  </tbody>\n",
       "</table>\n",
       "</div>"
      ],
      "text/plain": [
       "                    species   mass\n",
       "0      Aptenodytes forsteri  28.00\n",
       "1   Aptenodytes patagonicus  13.40\n",
       "2       Eudyptes chrysocome   2.80\n",
       "3     Eudyptes chrysolophus   4.50\n",
       "4         Eudyptes sclateri   4.25\n",
       "5           Eudyptula minor   1.60\n",
       "6        Pygoscelis adeliae   4.60\n",
       "7     Pygoscelis antarctica   4.10\n",
       "8          Pygoscelis papua   6.10\n",
       "9       Spheniscus demersus   3.20\n",
       "10     Spheniscus humboldti   4.75\n",
       "11  Spheniscus magellanicus   3.40"
      ]
     },
     "metadata": {},
     "output_type": "display_data"
    }
   ],
   "source": [
    "display(penguins_df)"
   ]
  },
  {
   "cell_type": "code",
   "execution_count": 82,
   "id": "5638ceab",
   "metadata": {},
   "outputs": [
    {
     "data": {
      "text/html": [
       "<div>\n",
       "<style scoped>\n",
       "    .dataframe tbody tr th:only-of-type {\n",
       "        vertical-align: middle;\n",
       "    }\n",
       "\n",
       "    .dataframe tbody tr th {\n",
       "        vertical-align: top;\n",
       "    }\n",
       "\n",
       "    .dataframe thead th {\n",
       "        text-align: right;\n",
       "    }\n",
       "</style>\n",
       "<table border=\"1\" class=\"dataframe\">\n",
       "  <thead>\n",
       "    <tr style=\"text-align: right;\">\n",
       "      <th></th>\n",
       "      <th>species</th>\n",
       "      <th>mass</th>\n",
       "      <th>Molecular Weight</th>\n",
       "    </tr>\n",
       "  </thead>\n",
       "  <tbody>\n",
       "    <tr>\n",
       "      <th>0</th>\n",
       "      <td>Aptenodytes forsteri</td>\n",
       "      <td>28.00</td>\n",
       "      <td>NaN</td>\n",
       "    </tr>\n",
       "    <tr>\n",
       "      <th>1</th>\n",
       "      <td>Aptenodytes patagonicus</td>\n",
       "      <td>13.40</td>\n",
       "      <td>NaN</td>\n",
       "    </tr>\n",
       "    <tr>\n",
       "      <th>2</th>\n",
       "      <td>Eudyptes chrysocome</td>\n",
       "      <td>2.80</td>\n",
       "      <td>NaN</td>\n",
       "    </tr>\n",
       "    <tr>\n",
       "      <th>3</th>\n",
       "      <td>Eudyptes chrysolophus</td>\n",
       "      <td>4.50</td>\n",
       "      <td>NaN</td>\n",
       "    </tr>\n",
       "    <tr>\n",
       "      <th>4</th>\n",
       "      <td>Eudyptes sclateri</td>\n",
       "      <td>4.25</td>\n",
       "      <td>NaN</td>\n",
       "    </tr>\n",
       "    <tr>\n",
       "      <th>5</th>\n",
       "      <td>Eudyptula minor</td>\n",
       "      <td>1.60</td>\n",
       "      <td>NaN</td>\n",
       "    </tr>\n",
       "    <tr>\n",
       "      <th>6</th>\n",
       "      <td>Pygoscelis adeliae</td>\n",
       "      <td>4.60</td>\n",
       "      <td>NaN</td>\n",
       "    </tr>\n",
       "    <tr>\n",
       "      <th>7</th>\n",
       "      <td>Pygoscelis antarctica</td>\n",
       "      <td>4.10</td>\n",
       "      <td>NaN</td>\n",
       "    </tr>\n",
       "    <tr>\n",
       "      <th>8</th>\n",
       "      <td>Pygoscelis papua</td>\n",
       "      <td>6.10</td>\n",
       "      <td>NaN</td>\n",
       "    </tr>\n",
       "    <tr>\n",
       "      <th>9</th>\n",
       "      <td>Spheniscus demersus</td>\n",
       "      <td>3.20</td>\n",
       "      <td>NaN</td>\n",
       "    </tr>\n",
       "    <tr>\n",
       "      <th>10</th>\n",
       "      <td>Spheniscus humboldti</td>\n",
       "      <td>4.75</td>\n",
       "      <td>NaN</td>\n",
       "    </tr>\n",
       "    <tr>\n",
       "      <th>11</th>\n",
       "      <td>Spheniscus magellanicus</td>\n",
       "      <td>3.40</td>\n",
       "      <td>NaN</td>\n",
       "    </tr>\n",
       "  </tbody>\n",
       "</table>\n",
       "</div>"
      ],
      "text/plain": [
       "                    species   mass Molecular Weight\n",
       "0      Aptenodytes forsteri  28.00              NaN\n",
       "1   Aptenodytes patagonicus  13.40              NaN\n",
       "2       Eudyptes chrysocome   2.80              NaN\n",
       "3     Eudyptes chrysolophus   4.50              NaN\n",
       "4         Eudyptes sclateri   4.25              NaN\n",
       "5           Eudyptula minor   1.60              NaN\n",
       "6        Pygoscelis adeliae   4.60              NaN\n",
       "7     Pygoscelis antarctica   4.10              NaN\n",
       "8          Pygoscelis papua   6.10              NaN\n",
       "9       Spheniscus demersus   3.20              NaN\n",
       "10     Spheniscus humboldti   4.75              NaN\n",
       "11  Spheniscus magellanicus   3.40              NaN"
      ]
     },
     "execution_count": 82,
     "metadata": {},
     "output_type": "execute_result"
    }
   ],
   "source": [
    "# Add an empty column named \"Molecular Weight\" , NaN are place holders     \n",
    "\n",
    "penguins_df[\"Molecular Weight\"]= penguins_df.shape [0]*[\"NaN\"] \n",
    "penguins_df"
   ]
  },
  {
   "cell_type": "code",
   "execution_count": 83,
   "id": "2b2fc7ec",
   "metadata": {},
   "outputs": [
    {
     "data": {
      "text/html": [
       "<div>\n",
       "<style scoped>\n",
       "    .dataframe tbody tr th:only-of-type {\n",
       "        vertical-align: middle;\n",
       "    }\n",
       "\n",
       "    .dataframe tbody tr th {\n",
       "        vertical-align: top;\n",
       "    }\n",
       "\n",
       "    .dataframe thead th {\n",
       "        text-align: right;\n",
       "    }\n",
       "</style>\n",
       "<table border=\"1\" class=\"dataframe\">\n",
       "  <thead>\n",
       "    <tr style=\"text-align: right;\">\n",
       "      <th></th>\n",
       "      <th>species</th>\n",
       "      <th>mass</th>\n",
       "      <th>Molecular Weight</th>\n",
       "      <th>GC content</th>\n",
       "    </tr>\n",
       "  </thead>\n",
       "  <tbody>\n",
       "    <tr>\n",
       "      <th>0</th>\n",
       "      <td>Aptenodytes forsteri</td>\n",
       "      <td>28.00</td>\n",
       "      <td>NaN</td>\n",
       "      <td>NaN</td>\n",
       "    </tr>\n",
       "    <tr>\n",
       "      <th>1</th>\n",
       "      <td>Aptenodytes patagonicus</td>\n",
       "      <td>13.40</td>\n",
       "      <td>NaN</td>\n",
       "      <td>NaN</td>\n",
       "    </tr>\n",
       "    <tr>\n",
       "      <th>2</th>\n",
       "      <td>Eudyptes chrysocome</td>\n",
       "      <td>2.80</td>\n",
       "      <td>NaN</td>\n",
       "      <td>NaN</td>\n",
       "    </tr>\n",
       "    <tr>\n",
       "      <th>3</th>\n",
       "      <td>Eudyptes chrysolophus</td>\n",
       "      <td>4.50</td>\n",
       "      <td>NaN</td>\n",
       "      <td>NaN</td>\n",
       "    </tr>\n",
       "    <tr>\n",
       "      <th>4</th>\n",
       "      <td>Eudyptes sclateri</td>\n",
       "      <td>4.25</td>\n",
       "      <td>NaN</td>\n",
       "      <td>NaN</td>\n",
       "    </tr>\n",
       "    <tr>\n",
       "      <th>5</th>\n",
       "      <td>Eudyptula minor</td>\n",
       "      <td>1.60</td>\n",
       "      <td>NaN</td>\n",
       "      <td>NaN</td>\n",
       "    </tr>\n",
       "    <tr>\n",
       "      <th>6</th>\n",
       "      <td>Pygoscelis adeliae</td>\n",
       "      <td>4.60</td>\n",
       "      <td>NaN</td>\n",
       "      <td>NaN</td>\n",
       "    </tr>\n",
       "    <tr>\n",
       "      <th>7</th>\n",
       "      <td>Pygoscelis antarctica</td>\n",
       "      <td>4.10</td>\n",
       "      <td>NaN</td>\n",
       "      <td>NaN</td>\n",
       "    </tr>\n",
       "    <tr>\n",
       "      <th>8</th>\n",
       "      <td>Pygoscelis papua</td>\n",
       "      <td>6.10</td>\n",
       "      <td>NaN</td>\n",
       "      <td>NaN</td>\n",
       "    </tr>\n",
       "    <tr>\n",
       "      <th>9</th>\n",
       "      <td>Spheniscus demersus</td>\n",
       "      <td>3.20</td>\n",
       "      <td>NaN</td>\n",
       "      <td>NaN</td>\n",
       "    </tr>\n",
       "    <tr>\n",
       "      <th>10</th>\n",
       "      <td>Spheniscus humboldti</td>\n",
       "      <td>4.75</td>\n",
       "      <td>NaN</td>\n",
       "      <td>NaN</td>\n",
       "    </tr>\n",
       "    <tr>\n",
       "      <th>11</th>\n",
       "      <td>Spheniscus magellanicus</td>\n",
       "      <td>3.40</td>\n",
       "      <td>NaN</td>\n",
       "      <td>NaN</td>\n",
       "    </tr>\n",
       "  </tbody>\n",
       "</table>\n",
       "</div>"
      ],
      "text/plain": [
       "                    species   mass Molecular Weight GC content\n",
       "0      Aptenodytes forsteri  28.00              NaN        NaN\n",
       "1   Aptenodytes patagonicus  13.40              NaN        NaN\n",
       "2       Eudyptes chrysocome   2.80              NaN        NaN\n",
       "3     Eudyptes chrysolophus   4.50              NaN        NaN\n",
       "4         Eudyptes sclateri   4.25              NaN        NaN\n",
       "5           Eudyptula minor   1.60              NaN        NaN\n",
       "6        Pygoscelis adeliae   4.60              NaN        NaN\n",
       "7     Pygoscelis antarctica   4.10              NaN        NaN\n",
       "8          Pygoscelis papua   6.10              NaN        NaN\n",
       "9       Spheniscus demersus   3.20              NaN        NaN\n",
       "10     Spheniscus humboldti   4.75              NaN        NaN\n",
       "11  Spheniscus magellanicus   3.40              NaN        NaN"
      ]
     },
     "execution_count": 83,
     "metadata": {},
     "output_type": "execute_result"
    }
   ],
   "source": [
    "# # Add an empty column named \"GC_Content\" , NaN are place holders  \n",
    "\n",
    "penguins_df[\"GC content\"]= penguins_df.shape [0]*[\"NaN\"]  \n",
    "penguins_df"
   ]
  },
  {
   "cell_type": "markdown",
   "id": "6e349fc3",
   "metadata": {},
   "source": [
    "# #7\n",
    "##### Write a for-loop that translates each sequence and also gets molecular weight and computes the GC content of each translated sequence and adds those data to DataFrame"
   ]
  },
  {
   "cell_type": "code",
   "execution_count": 84,
   "id": "851abf87",
   "metadata": {},
   "outputs": [
    {
     "name": "stdout",
     "output_type": "stream",
     "text": [
      "                    species   mass  Molecular Weight  GC content\n",
      "0      Aptenodytes forsteri  28.00        42459.6021   48.381452\n",
      "1   Aptenodytes patagonicus  13.40        42563.7067   49.693788\n",
      "2       Eudyptes chrysocome   2.80        42475.5753   51.181102\n",
      "3     Eudyptes chrysolophus   4.50        42445.5493   50.918635\n",
      "4         Eudyptes sclateri   4.25        42475.5753   50.831146\n",
      "5           Eudyptula minor   1.60        42491.6408   49.256343\n",
      "6        Pygoscelis adeliae   4.60        42458.6140   49.081365\n",
      "7     Pygoscelis antarctica   4.10        42404.5423   47.769029\n",
      "8          Pygoscelis papua   6.10        42595.8759   47.156605\n",
      "9       Spheniscus demersus   3.20        42431.5490   48.293963\n",
      "10     Spheniscus humboldti   4.75        42399.5520   49.256343\n",
      "11  Spheniscus magellanicus   3.40        42459.6021   48.206474\n"
     ]
    }
   ],
   "source": [
    "# Empty list for molecular weight and GC content \n",
    "# using my translate function from part 3 to translate the DNA sequence\n",
    "# using my function from part 4 to compute the molecular weight \n",
    "# here gc content is multiplied by 100 to get the gc content percentage\n",
    "# I'm appending the values of GC content and molecular weight to the previously defined lists\n",
    "# to replace NaN values in Molecular weight and GC content columns with the computed values\n",
    "# to view the table, \n",
    "# in the for loop, keys is the species and value is the sequence of each species\n",
    "\n",
    "Molecular_w_list = []            \n",
    "GC_content_list = []                \n",
    "for key, value in cytb_seqs.items():\n",
    "    aa_seq = translate(value)          \n",
    "    mol_wt = compute_molecular_weight(str(aa_seq))\n",
    "    gc_perc = gc_content(value)*100    \n",
    "    Molecular_w_list.append(mol_wt)    \n",
    "    GC_content_list.append(gc_perc)\n",
    "penguins_df[\"Molecular Weight\"] = Molecular_w_list \n",
    "penguins_df[\"GC content\"] = GC_content_list\n",
    "print(penguins_df) "
   ]
  },
  {
   "cell_type": "markdown",
   "id": "7658ecc0",
   "metadata": {},
   "source": []
  },
  {
   "cell_type": "markdown",
   "id": "6ff5b3fd",
   "metadata": {},
   "source": [
    "# #8\n",
    "##### Plot a bar-chart of the mass with the x-axes labeled with species names."
   ]
  },
  {
   "cell_type": "code",
   "execution_count": 103,
   "id": "99f553cd",
   "metadata": {},
   "outputs": [
    {
     "data": {
      "text/plain": [
       "<seaborn.axisgrid.FacetGrid at 0x228ceed7b80>"
      ]
     },
     "execution_count": 103,
     "metadata": {},
     "output_type": "execute_result"
    },
    {
     "data": {
      "image/png": "[encoded data removed]",
      "text/plain": [
       "<Figure size 720x360 with 1 Axes>"
      ]
     },
     "metadata": {},
     "output_type": "display_data"
    }
   ],
   "source": [
    "# create a plot object \"species_mass\"\n",
    "# specofy the x and y axes as, 'species' and 'mass' respectively\n",
    "# plot  type specified as 'bars'\n",
    "\n",
    "# # rotates the x axis labels \n",
    "\n",
    "sns.set_style(\"dark\")\n",
    "species_mass = sns.catplot(data = penguins_df,\n",
    " x=\"species\", \n",
    " y=\"mass\",\n",
    "  kind=\"bar\",\n",
    "   aspect = 2, \n",
    "   palette ='colorblind').set(title='Penguin body mass plot')\n",
    "species_mass.set_xticklabels(rotation=45) \n",
    " \n",
    "# https://www.geeksforgeeks.org/rotate-axis-tick-labels-in-seaborn-and-matplotlib/"
   ]
  },
  {
   "cell_type": "markdown",
   "id": "ce0ff172",
   "metadata": {},
   "source": [
    "#### *Q1* What is the smallest penguin species? \n"
   ]
  },
  {
   "cell_type": "markdown",
   "id": "ca422c45",
   "metadata": {},
   "source": [
    "##### Eudyptula minor "
   ]
  },
  {
   "cell_type": "markdown",
   "id": "1c0b7d7c",
   "metadata": {},
   "source": [
    "#### *Q2* What is the geographical range of this species?"
   ]
  },
  {
   "cell_type": "markdown",
   "id": "28794b90",
   "metadata": {},
   "source": [
    "##### New Zealand and southern Australia\n",
    "###### Peucker, Amanda & Dann, Peter & Burridge, Christopher. (2009). Range-Wide Phylogeography of the Little Penguin (Eudyptula minor): Evidence of Long-Distance Dispersal. Auk. 126. 397-408. 10.1525/auk.2009.08055. "
   ]
  },
  {
   "cell_type": "markdown",
   "id": "461ecefa",
   "metadata": {},
   "source": [
    "# #9 \n",
    "##### Plot a visualization of the molecular weight (y-axis) as a function of GC-content (x-axis)."
   ]
  },
  {
   "cell_type": "code",
   "execution_count": 102,
   "id": "801b5627",
   "metadata": {},
   "outputs": [
    {
     "name": "stderr",
     "output_type": "stream",
     "text": [
      "No handles with labels found to put in legend.\n"
     ]
    },
    {
     "data": {
      "image/png": "[encoded data removed]",
      "text/plain": [
       "<Figure size 432x288 with 1 Axes>"
      ]
     },
     "metadata": {},
     "output_type": "display_data"
    }
   ],
   "source": [
    "fig, ax =plt.subplots()                                    # plotting a scatter plot\n",
    "my_scatter_plot = ax.scatter(penguins_df[\"GC content\"],    # GC content from penguins dataframe\n",
    "penguins_df[\"Molecular Weight\"] )                          # Molecular Weight from penguins dataframe\n",
    "\n",
    "\n",
    "plt.title('GC-Molecular Weight scatter plot')  # Main label\n",
    "plt.xlabel('GC Content')                       # X axis label\n",
    "plt.ylabel('Molecular Weight')                 # y axis label\n",
    "plt.legend ()                                  # Added a title, labeled x and y axes\n",
    "ax.set_facecolor('xkcd:beige')                 # Plot backgrounf color as 'beige'\n"
   ]
  },
  {
   "cell_type": "markdown",
   "id": "a8ef45ed",
   "metadata": {},
   "source": [
    "# #10\n",
    "#### Save the new DataFrame to a file called \"penguins_mass_cytb.csv\""
   ]
  },
  {
   "cell_type": "code",
   "execution_count": 87,
   "id": "55176c8d",
   "metadata": {},
   "outputs": [],
   "source": [
    "penguins_df.to_csv('penguins_mass_cytb.csv', index=False) #saving the new dataframe"
   ]
  },
  {
   "cell_type": "markdown",
   "id": "834021a0",
   "metadata": {},
   "source": [
    "# #11 BONUS\n",
    "#### What else can we do with this dataset in Python? Add functions or anything that might be interesting and fun. (optional)"
   ]
  },
  {
   "cell_type": "code",
   "execution_count": null,
   "id": "486faa19",
   "metadata": {},
   "outputs": [],
   "source": []
  }
 ],
 "metadata": {
  "kernelspec": {
   "display_name": "Python 3.9.7 ('base')",
   "language": "python",
   "name": "python3"
  },
  "language_info": {
   "codemirror_mode": {
    "name": "ipython",
    "version": 3
   },
   "file_extension": ".py",
   "mimetype": "text/x-python",
   "name": "python",
   "nbconvert_exporter": "python",
   "pygments_lexer": "ipython3",
   "version": "3.9.7"
  },
  "vscode": {
   "interpreter": {
    "hash": "3c8bd6fdb898f70ce485e4379e31ea8e924797fd8bd6a96c2b5d2d6a91b30df2"
   }
  }
 },
 "nbformat": 4,
 "nbformat_minor": 5
}
